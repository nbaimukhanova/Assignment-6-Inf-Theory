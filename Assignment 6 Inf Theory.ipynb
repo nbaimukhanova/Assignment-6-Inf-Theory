{
 "cells": [
  {
   "cell_type": "markdown",
   "metadata": {},
   "source": [
    "# Assignment 6 (Part 4 of the project)"
   ]
  },
  {
   "cell_type": "markdown",
   "metadata": {},
   "source": [
    "### Encode the binary sequence after Part2 (Shannon-Fano or Huffman code) with Hamming code."
   ]
  },
  {
   "cell_type": "markdown",
   "metadata": {},
   "source": [
    "Nuraina Baimukhanova & Zukhra Mazhitova\n"
   ]
  },
  {
   "cell_type": "markdown",
   "metadata": {},
   "source": [
    "## Part 1\n",
    "\n",
    "Read the file with the sequence of bits from assignment 3."
   ]
  },
  {
   "cell_type": "code",
   "execution_count": 1,
   "metadata": {},
   "outputs": [],
   "source": [
    "with open(\"sample.txt\", \"r\") as f:\n",
    "    input_file = f.read()"
   ]
  },
  {
   "cell_type": "code",
   "execution_count": 2,
   "metadata": {},
   "outputs": [
    {
     "data": {
      "text/plain": [
       "'101001110100000111011010001010111111001000011101111111010001100111100111000'"
      ]
     },
     "execution_count": 2,
     "metadata": {},
     "output_type": "execute_result"
    }
   ],
   "source": [
    "input_file"
   ]
  },
  {
   "cell_type": "markdown",
   "metadata": {},
   "source": [
    "## Part 2\n",
    "\n",
    "Divide the sequence from the previous output (1) into data blocks:"
   ]
  },
  {
   "cell_type": "code",
   "execution_count": 3,
   "metadata": {},
   "outputs": [],
   "source": [
    "blocks=[]\n",
    "count = 0\n",
    "a = ''\n",
    "while count<len(input_file):\n",
    "    if len(a)<11:\n",
    "        a += input_file[count]\n",
    "        count += 1\n",
    "    else:\n",
    "        blocks.append(a)\n",
    "        a = ''\n",
    "num = len(input_file)%11\n",
    "a = input_file[:num]\n",
    "\n",
    "a+='0'*(11-len(a))\n",
    "blocks.append(a)"
   ]
  },
  {
   "cell_type": "code",
   "execution_count": 4,
   "metadata": {
    "scrolled": false
   },
   "outputs": [
    {
     "name": "stdout",
     "output_type": "stream",
     "text": [
      "11 bit Data Blocks\n",
      "block:1 10100111010\n",
      "block:2 00001110110\n",
      "block:3 10001010111\n",
      "block:4 11100100001\n",
      "block:5 11011111110\n",
      "block:6 10001100111\n",
      "block:7 10100111000\n"
     ]
    }
   ],
   "source": [
    "print('11 bit Data Blocks')\n",
    "for i in range(len(blocks)):\n",
    "    print('block:'+str(i+1)+' '+blocks[i])\n",
    "    "
   ]
  },
  {
   "cell_type": "code",
   "execution_count": 5,
   "metadata": {},
   "outputs": [],
   "source": [
    "blocks2=[]\n",
    "count2 = 0\n",
    "a2 = ''\n",
    "while count2<len(input_file):\n",
    "    if len(a2)<4:\n",
    "        a2 += input_file[count2]\n",
    "        count2 += 1\n",
    "    else:\n",
    "        blocks2.append(a2)\n",
    "        a2 = ''\n",
    "num2 = len(input_file)%4\n",
    "a2 = input_file[:num2]\n",
    "\n",
    "a2+='0'*(4-len(a2))\n",
    "blocks2.append(a2)"
   ]
  },
  {
   "cell_type": "code",
   "execution_count": 6,
   "metadata": {},
   "outputs": [
    {
     "name": "stdout",
     "output_type": "stream",
     "text": [
      "4 bit Data Blocks\n",
      "block:1 1010\n",
      "block:2 0111\n",
      "block:3 0100\n",
      "block:4 0001\n",
      "block:5 1101\n",
      "block:6 1010\n",
      "block:7 0010\n",
      "block:8 1011\n",
      "block:9 1111\n",
      "block:10 0010\n",
      "block:11 0001\n",
      "block:12 1101\n",
      "block:13 1111\n",
      "block:14 1101\n",
      "block:15 0001\n",
      "block:16 1001\n",
      "block:17 1110\n",
      "block:18 0111\n",
      "block:19 1010\n"
     ]
    }
   ],
   "source": [
    "print('4 bit Data Blocks')\n",
    "for i in range(len(blocks2)):\n",
    "    print('block:'+str(i+1)+' '+blocks2[i])\n",
    "    "
   ]
  },
  {
   "cell_type": "markdown",
   "metadata": {},
   "source": [
    "## Part 3\n",
    "Write a function HammingEncode(bitstring) that takes a sequence of 11 bits and returns the 16-bit codeword for (15, 11)"
   ]
  },
  {
   "cell_type": "code",
   "execution_count": 7,
   "metadata": {},
   "outputs": [],
   "source": [
    "import numpy as np\n",
    "def HammingEncode(string):\n",
    "      \n",
    "    arr=[]\n",
    "    for i in string:\n",
    "        arr.append(int(i))\n",
    "    np.array(arr)\n",
    "    pos = [0,1,2,4,8]\n",
    "    for i in pos:\n",
    "        arr = np.insert(arr,i,0)\n",
    "    arr = np.matrix(arr.reshape(4,4))\n",
    "    num = 0\n",
    "    \n",
    "    for i in np.array(arr[:, [1,3]]).flatten().tolist():\n",
    "        if i == 1:\n",
    "            num+=1\n",
    "    print(\"Number of 1's in 2nd and 4th columns:\",num)\n",
    "    if num%2==1:\n",
    "        arr[0,1] = 1\n",
    "\n",
    "    num = 0\n",
    "    for i in np.array(arr[:, [2,3]]).flatten().tolist():\n",
    "        if i == 1:\n",
    "            num+=1\n",
    "    print(\"Number of 1's in 3rd and 4th columns:\",num)\n",
    "\n",
    "    if num%2==1:\n",
    "        arr[0,2] = 1\n",
    "    num = 0\n",
    "    \n",
    "    for i in np.array(arr[[1,3], :]).flatten().tolist():\n",
    "        if i == 1:\n",
    "            num+=1\n",
    "    print(\"Number of 1's in 2nd and 4th rows:\",num)\n",
    "    if num%2==1:\n",
    "        arr[1,0] = 1\n",
    "        \n",
    "    num = 0\n",
    "    for i in np.array(arr[[2,3],: ]).flatten().tolist():\n",
    "        if i == 1:\n",
    "            num+=1\n",
    "    print(\"Number of 1's in 3rd and 4th rows:\",num)\n",
    "    if num%2==1:\n",
    "        arr[2,0] = 1\n",
    "    \n",
    "    num = 0\n",
    "    for i in np.array(arr).flatten().tolist():\n",
    "        if i == 1:\n",
    "            num+=1\n",
    "    print(\"Number of 1's:\",num)\n",
    "    \n",
    "    if num%2==1:\n",
    "        arr[0,0] = 1\n",
    "        \n",
    "    a = ''\n",
    "    for i in np.array(arr).flatten().tolist():\n",
    "        a+=str(i)\n",
    "    \n",
    "    \n",
    "    return a\n",
    "\n"
   ]
  },
  {
   "cell_type": "markdown",
   "metadata": {},
   "source": [
    "Example on first block"
   ]
  },
  {
   "cell_type": "code",
   "execution_count": 8,
   "metadata": {},
   "outputs": [
    {
     "name": "stdout",
     "output_type": "stream",
     "text": [
      "Number of 1's in 2nd and 4th columns: 2\n",
      "Number of 1's in 3rd and 4th columns: 2\n",
      "Number of 1's in 2nd and 4th rows: 2\n",
      "Number of 1's in 3rd and 4th rows: 2\n",
      "Number of 1's: 4\n",
      "0001001001001000\n"
     ]
    }
   ],
   "source": [
    "print(HammingEncode('10101001000'))"
   ]
  },
  {
   "cell_type": "code",
   "execution_count": 9,
   "metadata": {},
   "outputs": [],
   "source": [
    "def HammingEncode2(string2):\n",
    "\n",
    "    print('Expand the block to 8 bits:'+' _ '*3+string2[0]+' _ '+string2[1:])\n",
    "    arr2=[]\n",
    "    for i in string2:\n",
    "        arr2.append(int(i))\n",
    "    p1 = arr2[0]+ arr2[1]+arr2[3]\n",
    "    p2 = arr2[0]+ arr2[2]+arr2[3]\n",
    "    p3 = arr2[1]+ arr2[2]+arr2[3]\n",
    "    if p1%2==1:\n",
    "        p1 = 1\n",
    "    else: \n",
    "        p1 = 0\n",
    "    if p2%2==1:\n",
    "        p2 = 1\n",
    "    else: \n",
    "        p2 = 0\n",
    "    if p3%2==1:\n",
    "        p3 = 1\n",
    "    else: \n",
    "        p3 = 0\n",
    "    p0 = p1+p2+p3 +arr2[0] + arr2[1]+ arr2[2]+arr2[3] \n",
    "    if p0%2==1:\n",
    "        p0 = 1\n",
    "    else: \n",
    "        p0 = 0\n",
    "    np.array(arr2)\n",
    "    arr2 = np.insert(arr2,0,p0)\n",
    "    arr2 = np.insert(arr2,1,p1)\n",
    "    arr2 = np.insert(arr2,2,p2)\n",
    "    arr2 = np.insert(arr2,4,p3)\n",
    "    encoded = ''\n",
    "    for i in arr2.tolist():\n",
    "        encoded += str(i)\n",
    "    print('p1:'+' b3+b5+b7 = ' + string2[0]+'+'+ string2[1]+'+'+string2[3]+' = '+str(p1))\n",
    "    print('p2:'+' b3+b6+b7 = ' + string2[0]+'+'+ string2[2]+'+'+string2[3] +' = '+str(p2))\n",
    "    print('p3:' +' b5+b6+b7 = '+ string2[1]+'+'+ string2[2]+'+'+string2[3] +' = '+str(p3))\n",
    "    print('p0:' + ' b1+b2+b3+b4+b5+b6+b7 = '+str(p1) +'+'+ str(p2)+'+' +  string2[0]+'+'+str(p3)+'+'+ string2[1]+'+'+string2[2] +'+'+string2[3] +' = '+str(p0))\n",
    "    return encoded\n"
   ]
  },
  {
   "cell_type": "markdown",
   "metadata": {},
   "source": [
    "Example on first block"
   ]
  },
  {
   "cell_type": "code",
   "execution_count": 10,
   "metadata": {},
   "outputs": [
    {
     "name": "stdout",
     "output_type": "stream",
     "text": [
      "Expand the block to 8 bits: _  _  _ 1 _ 010\n",
      "p1: b3+b5+b7 = 1+0+0 = 1\n",
      "p2: b3+b6+b7 = 1+1+0 = 0\n",
      "p3: b5+b6+b7 = 0+1+0 = 1\n",
      "p0: b1+b2+b3+b4+b5+b6+b7 = 1+0+1+1+0+1+0 = 0\n",
      "01011010\n"
     ]
    }
   ],
   "source": [
    "print(HammingEncode2('1010'))"
   ]
  },
  {
   "cell_type": "markdown",
   "metadata": {},
   "source": [
    "## Part 4\n",
    "Run functions HammingEncode and HammingEncode2 on all data blocks. "
   ]
  },
  {
   "cell_type": "code",
   "execution_count": 11,
   "metadata": {},
   "outputs": [
    {
     "name": "stdout",
     "output_type": "stream",
     "text": [
      "Block: 10100111010\n",
      "Number of 1's in 2nd and 4th columns: 2\n",
      "Number of 1's in 3rd and 4th columns: 5\n",
      "Number of 1's in 2nd and 4th rows: 3\n",
      "Number of 1's in 3rd and 4th rows: 4\n",
      "Number of 1's: 8\n",
      "Encoded 16 bit: 0011101000111010\n",
      "\n",
      "Block: 00001110110\n",
      "Number of 1's in 2nd and 4th columns: 3\n",
      "Number of 1's in 3rd and 4th columns: 3\n",
      "Number of 1's in 2nd and 4th rows: 2\n",
      "Number of 1's in 3rd and 4th rows: 5\n",
      "Number of 1's: 8\n",
      "Encoded 16 bit: 0110000011110110\n",
      "\n",
      "Block: 10001010111\n",
      "Number of 1's in 2nd and 4th columns: 5\n",
      "Number of 1's in 3rd and 4th columns: 4\n",
      "Number of 1's in 2nd and 4th rows: 3\n",
      "Number of 1's in 3rd and 4th rows: 5\n",
      "Number of 1's: 9\n",
      "Encoded 16 bit: 1101100011010111\n",
      "\n",
      "Block: 11100100001\n",
      "Number of 1's in 2nd and 4th columns: 3\n",
      "Number of 1's in 3rd and 4th columns: 4\n",
      "Number of 1's in 2nd and 4th rows: 3\n",
      "Number of 1's in 3rd and 4th rows: 2\n",
      "Number of 1's: 7\n",
      "Encoded 16 bit: 1101111000100001\n",
      "\n",
      "Block: 11011111110\n",
      "Number of 1's in 2nd and 4th columns: 6\n",
      "Number of 1's in 3rd and 4th columns: 5\n",
      "Number of 1's in 2nd and 4th rows: 5\n",
      "Number of 1's in 3rd and 4th rows: 6\n",
      "Number of 1's: 11\n",
      "Encoded 16 bit: 1011110101111110\n",
      "\n",
      "Block: 10001100111\n",
      "Number of 1's in 2nd and 4th columns: 4\n",
      "Number of 1's in 3rd and 4th columns: 4\n",
      "Number of 1's in 2nd and 4th rows: 3\n",
      "Number of 1's in 3rd and 4th rows: 5\n",
      "Number of 1's: 8\n",
      "Encoded 16 bit: 0001100011100111\n",
      "\n",
      "Block: 10100111000\n",
      "Number of 1's in 2nd and 4th columns: 2\n",
      "Number of 1's in 3rd and 4th columns: 4\n",
      "Number of 1's in 2nd and 4th rows: 2\n",
      "Number of 1's in 3rd and 4th rows: 3\n",
      "Number of 1's: 6\n",
      "Encoded 16 bit: 0001001010111000\n",
      "\n"
     ]
    }
   ],
   "source": [
    "encoded=''\n",
    "for i in blocks:\n",
    "    print('Block:',i)\n",
    "    enc = HammingEncode(i)\n",
    "    print('Encoded 16 bit:',enc)\n",
    "    print('')\n",
    "    encoded+=enc\n"
   ]
  },
  {
   "cell_type": "code",
   "execution_count": 12,
   "metadata": {},
   "outputs": [
    {
     "name": "stdout",
     "output_type": "stream",
     "text": [
      "Block: 1010\n",
      "Expand the block to 8 bits: _  _  _ 1 _ 010\n",
      "p1: b3+b5+b7 = 1+0+0 = 1\n",
      "p2: b3+b6+b7 = 1+1+0 = 0\n",
      "p3: b5+b6+b7 = 0+1+0 = 1\n",
      "p0: b1+b2+b3+b4+b5+b6+b7 = 1+0+1+1+0+1+0 = 0\n",
      "Encoded 7 bit: 01011010\n",
      "\n",
      "Block: 0111\n",
      "Expand the block to 8 bits: _  _  _ 0 _ 111\n",
      "p1: b3+b5+b7 = 0+1+1 = 0\n",
      "p2: b3+b6+b7 = 0+1+1 = 0\n",
      "p3: b5+b6+b7 = 1+1+1 = 1\n",
      "p0: b1+b2+b3+b4+b5+b6+b7 = 0+0+0+1+1+1+1 = 0\n",
      "Encoded 7 bit: 00001111\n",
      "\n",
      "Block: 0100\n",
      "Expand the block to 8 bits: _  _  _ 0 _ 100\n",
      "p1: b3+b5+b7 = 0+1+0 = 1\n",
      "p2: b3+b6+b7 = 0+0+0 = 0\n",
      "p3: b5+b6+b7 = 1+0+0 = 1\n",
      "p0: b1+b2+b3+b4+b5+b6+b7 = 1+0+0+1+1+0+0 = 1\n",
      "Encoded 7 bit: 11001100\n",
      "\n",
      "Block: 0001\n",
      "Expand the block to 8 bits: _  _  _ 0 _ 001\n",
      "p1: b3+b5+b7 = 0+0+1 = 1\n",
      "p2: b3+b6+b7 = 0+0+1 = 1\n",
      "p3: b5+b6+b7 = 0+0+1 = 1\n",
      "p0: b1+b2+b3+b4+b5+b6+b7 = 1+1+0+1+0+0+1 = 0\n",
      "Encoded 7 bit: 01101001\n",
      "\n",
      "Block: 1101\n",
      "Expand the block to 8 bits: _  _  _ 1 _ 101\n",
      "p1: b3+b5+b7 = 1+1+1 = 1\n",
      "p2: b3+b6+b7 = 1+0+1 = 0\n",
      "p3: b5+b6+b7 = 1+0+1 = 0\n",
      "p0: b1+b2+b3+b4+b5+b6+b7 = 1+0+1+0+1+0+1 = 0\n",
      "Encoded 7 bit: 01010101\n",
      "\n",
      "Block: 1010\n",
      "Expand the block to 8 bits: _  _  _ 1 _ 010\n",
      "p1: b3+b5+b7 = 1+0+0 = 1\n",
      "p2: b3+b6+b7 = 1+1+0 = 0\n",
      "p3: b5+b6+b7 = 0+1+0 = 1\n",
      "p0: b1+b2+b3+b4+b5+b6+b7 = 1+0+1+1+0+1+0 = 0\n",
      "Encoded 7 bit: 01011010\n",
      "\n",
      "Block: 0010\n",
      "Expand the block to 8 bits: _  _  _ 0 _ 010\n",
      "p1: b3+b5+b7 = 0+0+0 = 0\n",
      "p2: b3+b6+b7 = 0+1+0 = 1\n",
      "p3: b5+b6+b7 = 0+1+0 = 1\n",
      "p0: b1+b2+b3+b4+b5+b6+b7 = 0+1+0+1+0+1+0 = 1\n",
      "Encoded 7 bit: 10101010\n",
      "\n",
      "Block: 1011\n",
      "Expand the block to 8 bits: _  _  _ 1 _ 011\n",
      "p1: b3+b5+b7 = 1+0+1 = 0\n",
      "p2: b3+b6+b7 = 1+1+1 = 1\n",
      "p3: b5+b6+b7 = 0+1+1 = 0\n",
      "p0: b1+b2+b3+b4+b5+b6+b7 = 0+1+1+0+0+1+1 = 0\n",
      "Encoded 7 bit: 00110011\n",
      "\n",
      "Block: 1111\n",
      "Expand the block to 8 bits: _  _  _ 1 _ 111\n",
      "p1: b3+b5+b7 = 1+1+1 = 1\n",
      "p2: b3+b6+b7 = 1+1+1 = 1\n",
      "p3: b5+b6+b7 = 1+1+1 = 1\n",
      "p0: b1+b2+b3+b4+b5+b6+b7 = 1+1+1+1+1+1+1 = 1\n",
      "Encoded 7 bit: 11111111\n",
      "\n",
      "Block: 0010\n",
      "Expand the block to 8 bits: _  _  _ 0 _ 010\n",
      "p1: b3+b5+b7 = 0+0+0 = 0\n",
      "p2: b3+b6+b7 = 0+1+0 = 1\n",
      "p3: b5+b6+b7 = 0+1+0 = 1\n",
      "p0: b1+b2+b3+b4+b5+b6+b7 = 0+1+0+1+0+1+0 = 1\n",
      "Encoded 7 bit: 10101010\n",
      "\n",
      "Block: 0001\n",
      "Expand the block to 8 bits: _  _  _ 0 _ 001\n",
      "p1: b3+b5+b7 = 0+0+1 = 1\n",
      "p2: b3+b6+b7 = 0+0+1 = 1\n",
      "p3: b5+b6+b7 = 0+0+1 = 1\n",
      "p0: b1+b2+b3+b4+b5+b6+b7 = 1+1+0+1+0+0+1 = 0\n",
      "Encoded 7 bit: 01101001\n",
      "\n",
      "Block: 1101\n",
      "Expand the block to 8 bits: _  _  _ 1 _ 101\n",
      "p1: b3+b5+b7 = 1+1+1 = 1\n",
      "p2: b3+b6+b7 = 1+0+1 = 0\n",
      "p3: b5+b6+b7 = 1+0+1 = 0\n",
      "p0: b1+b2+b3+b4+b5+b6+b7 = 1+0+1+0+1+0+1 = 0\n",
      "Encoded 7 bit: 01010101\n",
      "\n",
      "Block: 1111\n",
      "Expand the block to 8 bits: _  _  _ 1 _ 111\n",
      "p1: b3+b5+b7 = 1+1+1 = 1\n",
      "p2: b3+b6+b7 = 1+1+1 = 1\n",
      "p3: b5+b6+b7 = 1+1+1 = 1\n",
      "p0: b1+b2+b3+b4+b5+b6+b7 = 1+1+1+1+1+1+1 = 1\n",
      "Encoded 7 bit: 11111111\n",
      "\n",
      "Block: 1101\n",
      "Expand the block to 8 bits: _  _  _ 1 _ 101\n",
      "p1: b3+b5+b7 = 1+1+1 = 1\n",
      "p2: b3+b6+b7 = 1+0+1 = 0\n",
      "p3: b5+b6+b7 = 1+0+1 = 0\n",
      "p0: b1+b2+b3+b4+b5+b6+b7 = 1+0+1+0+1+0+1 = 0\n",
      "Encoded 7 bit: 01010101\n",
      "\n",
      "Block: 0001\n",
      "Expand the block to 8 bits: _  _  _ 0 _ 001\n",
      "p1: b3+b5+b7 = 0+0+1 = 1\n",
      "p2: b3+b6+b7 = 0+0+1 = 1\n",
      "p3: b5+b6+b7 = 0+0+1 = 1\n",
      "p0: b1+b2+b3+b4+b5+b6+b7 = 1+1+0+1+0+0+1 = 0\n",
      "Encoded 7 bit: 01101001\n",
      "\n",
      "Block: 1001\n",
      "Expand the block to 8 bits: _  _  _ 1 _ 001\n",
      "p1: b3+b5+b7 = 1+0+1 = 0\n",
      "p2: b3+b6+b7 = 1+0+1 = 0\n",
      "p3: b5+b6+b7 = 0+0+1 = 1\n",
      "p0: b1+b2+b3+b4+b5+b6+b7 = 0+0+1+1+0+0+1 = 1\n",
      "Encoded 7 bit: 10011001\n",
      "\n",
      "Block: 1110\n",
      "Expand the block to 8 bits: _  _  _ 1 _ 110\n",
      "p1: b3+b5+b7 = 1+1+0 = 0\n",
      "p2: b3+b6+b7 = 1+1+0 = 0\n",
      "p3: b5+b6+b7 = 1+1+0 = 0\n",
      "p0: b1+b2+b3+b4+b5+b6+b7 = 0+0+1+0+1+1+0 = 1\n",
      "Encoded 7 bit: 10010110\n",
      "\n",
      "Block: 0111\n",
      "Expand the block to 8 bits: _  _  _ 0 _ 111\n",
      "p1: b3+b5+b7 = 0+1+1 = 0\n",
      "p2: b3+b6+b7 = 0+1+1 = 0\n",
      "p3: b5+b6+b7 = 1+1+1 = 1\n",
      "p0: b1+b2+b3+b4+b5+b6+b7 = 0+0+0+1+1+1+1 = 0\n",
      "Encoded 7 bit: 00001111\n",
      "\n",
      "Block: 1010\n",
      "Expand the block to 8 bits: _  _  _ 1 _ 010\n",
      "p1: b3+b5+b7 = 1+0+0 = 1\n",
      "p2: b3+b6+b7 = 1+1+0 = 0\n",
      "p3: b5+b6+b7 = 0+1+0 = 1\n",
      "p0: b1+b2+b3+b4+b5+b6+b7 = 1+0+1+1+0+1+0 = 0\n",
      "Encoded 7 bit: 01011010\n",
      "\n"
     ]
    }
   ],
   "source": [
    "encoded2=''\n",
    "for i in blocks2:\n",
    "    print('Block:',i)\n",
    "    enc2 = HammingEncode2(i)\n",
    "    print('Encoded 7 bit:',enc2)\n",
    "    print('')\n",
    "    encoded2+=enc2"
   ]
  },
  {
   "cell_type": "markdown",
   "metadata": {},
   "source": [
    "## Part 5\n",
    "Combine all of the encoded bitstrings into one sequence. Print it and save it in a txt file."
   ]
  },
  {
   "cell_type": "code",
   "execution_count": 13,
   "metadata": {},
   "outputs": [
    {
     "name": "stdout",
     "output_type": "stream",
     "text": [
      "Final encoded sequence: 0011101000111010011000001111011011011000110101111101111000100001101111010111111000011000111001110001001010111000\n"
     ]
    }
   ],
   "source": [
    "print('Final encoded sequence:',encoded)"
   ]
  },
  {
   "cell_type": "code",
   "execution_count": 14,
   "metadata": {},
   "outputs": [
    {
     "name": "stdout",
     "output_type": "stream",
     "text": [
      "Final encoded sequence 2: 01011010000011111100110001101001010101010101101010101010001100111111111110101010011010010101010111111111010101010110100110011001100101100000111101011010\n"
     ]
    }
   ],
   "source": [
    "print('Final encoded sequence 2:',encoded2)"
   ]
  },
  {
   "cell_type": "code",
   "execution_count": 15,
   "metadata": {},
   "outputs": [],
   "source": [
    "file = open(\"output1.txt\", \"w\")\n",
    "file.write(encoded)\n",
    "file.close()"
   ]
  },
  {
   "cell_type": "code",
   "execution_count": 16,
   "metadata": {},
   "outputs": [],
   "source": [
    "file2 = open(\"output2.txt\", \"w\")\n",
    "file2.write(encoded2)\n",
    "file2.close()"
   ]
  }
 ],
 "metadata": {
  "kernelspec": {
   "display_name": "Python 3",
   "language": "python",
   "name": "python3"
  },
  "language_info": {
   "codemirror_mode": {
    "name": "ipython",
    "version": 3
   },
   "file_extension": ".py",
   "mimetype": "text/x-python",
   "name": "python",
   "nbconvert_exporter": "python",
   "pygments_lexer": "ipython3",
   "version": "3.8.5"
  }
 },
 "nbformat": 4,
 "nbformat_minor": 4
}
